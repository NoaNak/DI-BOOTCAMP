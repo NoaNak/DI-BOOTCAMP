{
 "cells": [
  {
   "cell_type": "markdown",
   "id": "46304591",
   "metadata": {},
   "source": [
    "# Matplotlib"
   ]
  },
  {
   "cell_type": "code",
   "execution_count": 1,
   "id": "52a87a4e",
   "metadata": {},
   "outputs": [],
   "source": [
    "import matplotlib.pyplot as plt\n",
    "import pandas as pd\n",
    "import ssl\n",
    "\n",
    "ssl._create_default_https_context = ssl._create_unverified_context"
   ]
  },
  {
   "cell_type": "code",
   "execution_count": 2,
   "id": "d1d6c1f5",
   "metadata": {},
   "outputs": [],
   "source": [
    "df = pd.read_csv('https://raw.githubusercontent.com/mwaskom/seaborn-data/master/iris.csv') # read_csv reads a .csv file"
   ]
  },
  {
   "cell_type": "code",
   "execution_count": 3,
   "id": "40e151f9",
   "metadata": {},
   "outputs": [],
   "source": [
    "df.head()"
   ]
  },
  {
   "cell_type": "markdown",
   "id": "363e79ce",
   "metadata": {},
   "source": [
    "# The flow of a data analysis project\n",
    "\n",
    "## 1. get the data - use pandas\n",
    "## 2. clean/preprocess the data - use numpy\n",
    "## 3. visualize/understand the data - use Matplotlib"
   ]
  },
  {
   "cell_type": "code",
   "execution_count": 4,
   "id": "07740d67",
   "metadata": {},
   "outputs": [],
   "source": [
    "# basic analysis\n",
    "\n",
    "df.info()"
   ]
  },
  {
   "cell_type": "code",
   "execution_count": 5,
   "id": "5ce32acc",
   "metadata": {},
   "outputs": [],
   "source": [
    "df.describe()"
   ]
  },
  {
   "cell_type": "code",
   "execution_count": 6,
   "id": "4567bbf6",
   "metadata": {},
   "outputs": [],
   "source": [
    "# setosa, verginica, versicolor\n",
    "df.groupby('species').mean()"
   ]
  },
  {
   "cell_type": "code",
   "execution_count": 7,
   "id": "e07268ae",
   "metadata": {},
   "outputs": [],
   "source": [
    "# separate the species into 3 separate DataFrames\n",
    "setosa = df[df['species'] == 'setosa']\n",
    "versicolor = df[df['species'] == 'versicolor']\n",
    "virginica = df[df['species'] == 'virginica']"
   ]
  },
  {
   "cell_type": "code",
   "execution_count": 8,
   "id": "01846631",
   "metadata": {},
   "outputs": [],
   "source": [
    "len(setosa) # len returns number of rows"
   ]
  },
  {
   "cell_type": "code",
   "execution_count": 9,
   "id": "fc4da609",
   "metadata": {},
   "outputs": [],
   "source": [
    "len(versicolor)"
   ]
  },
  {
   "cell_type": "code",
   "execution_count": 10,
   "id": "55c14f0e",
   "metadata": {},
   "outputs": [],
   "source": [
    "len(virginica)"
   ]
  },
  {
   "cell_type": "code",
   "execution_count": 11,
   "id": "4fbd5caf",
   "metadata": {},
   "outputs": [],
   "source": [
    "setosa.iloc[0]"
   ]
  },
  {
   "cell_type": "markdown",
   "id": "c6b25c4f",
   "metadata": {},
   "source": [
    "## Scatterplot - for seeing the distribution of data"
   ]
  },
  {
   "cell_type": "code",
   "execution_count": 12,
   "id": "293c9537",
   "metadata": {},
   "outputs": [],
   "source": [
    "plt.scatter(setosa['sepal_length'], setosa['sepal_width'], c='green')\n",
    "plt.xlabel('sepal_length')\n",
    "plt.ylabel('sepal_width')"
   ]
  },
  {
   "cell_type": "code",
   "execution_count": 13,
   "id": "ede6a0de",
   "metadata": {},
   "outputs": [],
   "source": [
    "plt.scatter(versicolor['sepal_length'], versicolor['sepal_width'], c='blue')\n",
    "plt.xlabel('sepal_length')\n",
    "plt.ylabel('sepal_width')"
   ]
  },
  {
   "cell_type": "code",
   "execution_count": 14,
   "id": "0651b66a",
   "metadata": {},
   "outputs": [],
   "source": [
    "plt.scatter(virginica['sepal_length'], virginica['sepal_width'], c='red')\n",
    "plt.xlabel('sepal_length')\n",
    "plt.ylabel('sepal_width')"
   ]
  },
  {
   "cell_type": "markdown",
   "id": "add52205",
   "metadata": {},
   "source": [
    "## Histogram - cumulative (how much)"
   ]
  },
  {
   "cell_type": "code",
   "execution_count": 15,
   "id": "19806599",
   "metadata": {},
   "outputs": [],
   "source": [
    "plt.hist(df['species'], color= 'green')"
   ]
  },
  {
   "cell_type": "markdown",
   "id": "4f1d68af",
   "metadata": {},
   "source": [
    "## plt.Figure and axes"
   ]
  },
  {
   "cell_type": "code",
   "execution_count": 16,
   "id": "8c67e4b4",
   "metadata": {},
   "outputs": [],
   "source": [
    "fig, ax = plt.subplots(1,3, figsize=(25, 10)) # subplots - creates 1 fugure with axes (rows (1) * column(3))"
   ]
  },
  {
   "cell_type": "code",
   "execution_count": 17,
   "id": "e9be8350",
   "metadata": {},
   "outputs": [],
   "source": [
    "ax[0].scatter(virginica['sepal_length'], virginica['sepal_width'], c='blue')\n",
    "ax[0].set_xlabel('sepal_length')\n",
    "ax[0].set_ylabel('sepal_width')"
   ]
  },
  {
   "cell_type": "code",
   "execution_count": 18,
   "id": "a11cbfbf",
   "metadata": {},
   "outputs": [],
   "source": [
    "ax[1].scatter(setosa['sepal_length'], setosa['sepal_width'], c='green')\n",
    "ax[1].set_xlabel('sepal_length')\n",
    "ax[1].set_ylabel('sepal_width')"
   ]
  },
  {
   "cell_type": "code",
   "execution_count": 19,
   "id": "1603d7a3",
   "metadata": {},
   "outputs": [],
   "source": [
    "ax[2].scatter(versicolor['sepal_length'], versicolor['sepal_width'], c='red')\n",
    "ax[2].set_xlabel('sepal_length')\n",
    "ax[2].set_ylabel('sepal_width')"
   ]
  },
  {
   "cell_type": "code",
   "execution_count": 20,
   "id": "a9bb789d",
   "metadata": {},
   "outputs": [],
   "source": [
    "fig"
   ]
  },
  {
   "cell_type": "code",
   "execution_count": null,
   "id": "1f8615a0",
   "metadata": {},
   "outputs": [],
   "source": []
  }
 ],
 "metadata": {
  "kernelspec": {
   "display_name": "Python 3 (ipykernel)",
   "language": "python",
   "name": "python3"
  },
  "language_info": {
   "codemirror_mode": {
    "name": "ipython",
    "version": 3
   },
   "file_extension": ".py",
   "mimetype": "text/x-python",
   "name": "python",
   "nbconvert_exporter": "python",
   "pygments_lexer": "ipython3",
   "version": "3.9.7"
  }
 },
 "nbformat": 4,
 "nbformat_minor": 5
}
